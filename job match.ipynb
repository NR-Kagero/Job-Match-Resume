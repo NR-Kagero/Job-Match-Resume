{
 "cells": [
  {
   "cell_type": "code",
   "id": "initial_id",
   "metadata": {
    "collapsed": true,
    "ExecuteTime": {
     "end_time": "2025-09-20T13:27:40.018206Z",
     "start_time": "2025-09-20T13:27:40.002542Z"
    }
   },
   "source": [
    "import pandas as pd\n",
    "import numpy as np\n",
    "from nltk.corpus import stopwords\n",
    "from nltk.tokenize import RegexpTokenizer\n",
    "from sentence_transformers import SentenceTransformer\n",
    "from sklearn.model_selection import train_test_split\n",
    "from sklearn.linear_model import Ridge\n",
    "from sklearn.metrics import mean_squared_error"
   ],
   "outputs": [],
   "execution_count": 275
  },
  {
   "metadata": {
    "ExecuteTime": {
     "end_time": "2025-09-20T13:27:40.177144Z",
     "start_time": "2025-09-20T13:27:40.161317Z"
    }
   },
   "cell_type": "code",
   "source": [
    "def embed_with_sentence_transformers(sentences, model_name='all-MiniLM-L6-v2'):\n",
    "    print(f\"\\n--- Generating embeddings with 'sentence-transformers' library ({model_name}) ---\")\n",
    "    model = SentenceTransformer(model_name)\n",
    "    sentence_embeddings = model.encode(sentences, convert_to_tensor=True)\n",
    "    print(\"Embedding generation complete.\")\n",
    "    return sentence_embeddings.cpu()\n"
   ],
   "id": "f46e75651b78140a",
   "outputs": [],
   "execution_count": 276
  },
  {
   "metadata": {
    "ExecuteTime": {
     "end_time": "2025-09-20T13:27:40.259794Z",
     "start_time": "2025-09-20T13:27:40.224768Z"
    }
   },
   "cell_type": "code",
   "source": [
    "def remove_stopwords(sentence):\n",
    "    tokenizer = RegexpTokenizer(r'\\w+')  # Matches one or more alphanumeric characters or underscores\n",
    "    tokens = tokenizer.tokenize(sentence)\n",
    "    english_stopwords = set(stopwords.words('english'))\n",
    "    filtered_tokens = [word for word in tokens if word not in english_stopwords]\n",
    "    cleaned_text = ' '.join(filtered_tokens)\n",
    "    return cleaned_text\n"
   ],
   "id": "391e64f26c5994f",
   "outputs": [],
   "execution_count": 277
  },
  {
   "metadata": {
    "ExecuteTime": {
     "end_time": "2025-09-20T13:27:40.355400Z",
     "start_time": "2025-09-20T13:27:40.259794Z"
    }
   },
   "cell_type": "code",
   "source": [
    "def preprocessing(data):\n",
    "    sentences = list(data)\n",
    "    print(\"Lowering sentences...\")\n",
    "    lowered_sentences = list(map(lambda X: X.lower(), sentences))\n",
    "    print(\"Cleaning sentences...\")\n",
    "    cleaned_sentences = list(map(remove_stopwords, lowered_sentences))\n",
    "    print(\"Tokenizing sentences...\")\n",
    "    embeddings = embed_with_sentence_transformers(cleaned_sentences)\n",
    "    print(\"Embedding generation complete.\")\n",
    "    return np.array(embeddings)"
   ],
   "id": "6a71a7239ffde994",
   "outputs": [],
   "execution_count": 278
  },
  {
   "metadata": {
    "ExecuteTime": {
     "end_time": "2025-09-20T13:27:40.672663Z",
     "start_time": "2025-09-20T13:27:40.363497Z"
    }
   },
   "cell_type": "code",
   "source": "data = pd.read_csv('job match\\\\resume_data.csv')",
   "id": "17c41b3f4541100a",
   "outputs": [],
   "execution_count": 279
  },
  {
   "metadata": {
    "ExecuteTime": {
     "end_time": "2025-09-20T13:27:40.704389Z",
     "start_time": "2025-09-20T13:27:40.672663Z"
    }
   },
   "cell_type": "code",
   "source": "print(data.info())",
   "id": "aabaaca71aceb929",
   "outputs": [
    {
     "name": "stdout",
     "output_type": "stream",
     "text": [
      "<class 'pandas.core.frame.DataFrame'>\n",
      "RangeIndex: 9544 entries, 0 to 9543\n",
      "Data columns (total 35 columns):\n",
      " #   Column                               Non-Null Count  Dtype  \n",
      "---  ------                               --------------  -----  \n",
      " 0   address                              784 non-null    object \n",
      " 1   career_objective                     4740 non-null   object \n",
      " 2   skills                               9488 non-null   object \n",
      " 3   educational_institution_name         9460 non-null   object \n",
      " 4   degree_names                         9460 non-null   object \n",
      " 5   passing_years                        9460 non-null   object \n",
      " 6   educational_results                  9460 non-null   object \n",
      " 7   result_types                         9460 non-null   object \n",
      " 8   major_field_of_studies               9460 non-null   object \n",
      " 9   professional_company_names           9460 non-null   object \n",
      " 10  company_urls                         9460 non-null   object \n",
      " 11  start_dates                          9460 non-null   object \n",
      " 12  end_dates                            9460 non-null   object \n",
      " 13  related_skils_in_job                 9460 non-null   object \n",
      " 14  positions                            9460 non-null   object \n",
      " 15  locations                            9460 non-null   object \n",
      " 16  responsibilities                     9544 non-null   object \n",
      " 17  extra_curricular_activity_types      3426 non-null   object \n",
      " 18  extra_curricular_organization_names  3426 non-null   object \n",
      " 19  extra_curricular_organization_links  3426 non-null   object \n",
      " 20  role_positions                       3426 non-null   object \n",
      " 21  languages                            700 non-null    object \n",
      " 22  proficiency_levels                   700 non-null    object \n",
      " 23  certification_providers              2008 non-null   object \n",
      " 24  certification_skills                 2008 non-null   object \n",
      " 25  online_links                         2008 non-null   object \n",
      " 26  issue_dates                          2008 non-null   object \n",
      " 27  expiry_dates                         2008 non-null   object \n",
      " 28  ﻿job_position_name                   9544 non-null   object \n",
      " 29  educationaL_requirements             9544 non-null   object \n",
      " 30  experiencere_requirement             8180 non-null   object \n",
      " 31  age_requirement                      5457 non-null   object \n",
      " 32  responsibilities.1                   9544 non-null   object \n",
      " 33  skills_required                      7843 non-null   object \n",
      " 34  matched_score                        9544 non-null   float64\n",
      "dtypes: float64(1), object(34)\n",
      "memory usage: 2.5+ MB\n",
      "None\n"
     ]
    }
   ],
   "execution_count": 280
  },
  {
   "metadata": {
    "ExecuteTime": {
     "end_time": "2025-09-20T13:27:40.815933Z",
     "start_time": "2025-09-20T13:27:40.704389Z"
    }
   },
   "cell_type": "code",
   "source": [
    "text_cols = ['career_objective', 'degree_names', 'major_field_of_studies', 'positions', 'skills', 'positions',\n",
    "             'responsibilities']\n",
    "for col in text_cols:\n",
    "    data[col] = data[col].fillna('')"
   ],
   "id": "2fb9c227fcc79784",
   "outputs": [],
   "execution_count": 281
  },
  {
   "metadata": {
    "ExecuteTime": {
     "end_time": "2025-09-20T13:27:40.927809Z",
     "start_time": "2025-09-20T13:27:40.817850Z"
    }
   },
   "cell_type": "code",
   "source": "print(data.columns)",
   "id": "265023ced6a2d1d5",
   "outputs": [
    {
     "name": "stdout",
     "output_type": "stream",
     "text": [
      "Index(['address', 'career_objective', 'skills', 'educational_institution_name',\n",
      "       'degree_names', 'passing_years', 'educational_results', 'result_types',\n",
      "       'major_field_of_studies', 'professional_company_names', 'company_urls',\n",
      "       'start_dates', 'end_dates', 'related_skils_in_job', 'positions',\n",
      "       'locations', 'responsibilities', 'extra_curricular_activity_types',\n",
      "       'extra_curricular_organization_names',\n",
      "       'extra_curricular_organization_links', 'role_positions', 'languages',\n",
      "       'proficiency_levels', 'certification_providers', 'certification_skills',\n",
      "       'online_links', 'issue_dates', 'expiry_dates', '﻿job_position_name',\n",
      "       'educationaL_requirements', 'experiencere_requirement',\n",
      "       'age_requirement', 'responsibilities.1', 'skills_required',\n",
      "       'matched_score'],\n",
      "      dtype='object')\n"
     ]
    }
   ],
   "execution_count": 282
  },
  {
   "metadata": {
    "ExecuteTime": {
     "end_time": "2025-09-20T13:27:41.007325Z",
     "start_time": "2025-09-20T13:27:40.927809Z"
    }
   },
   "cell_type": "code",
   "source": [
    "feature_columns = [\n",
    "    'skills',\n",
    "    'career_objective',\n",
    "    'degree_names',\n",
    "    'major_field_of_studies',\n",
    "    'positions',\n",
    "    'responsibilities'\n",
    "]"
   ],
   "id": "9eb3c7e5144d2de9",
   "outputs": [],
   "execution_count": 283
  },
  {
   "metadata": {
    "ExecuteTime": {
     "end_time": "2025-09-20T13:27:41.118851Z",
     "start_time": "2025-09-20T13:27:41.007325Z"
    }
   },
   "cell_type": "code",
   "source": [
    "for col in feature_columns:\n",
    "    data[col] = data[col].astype(str)"
   ],
   "id": "7c0206c6925168f6",
   "outputs": [],
   "execution_count": 284
  },
  {
   "metadata": {
    "ExecuteTime": {
     "end_time": "2025-09-20T13:27:41.262275Z",
     "start_time": "2025-09-20T13:27:41.118851Z"
    }
   },
   "cell_type": "code",
   "source": [
    "new_data = pd.DataFrame(columns=[\"resume_job\", \"match_score\"])\n",
    "new_data['resume_job'] = data['skills'] + data['career_objective'] + data['degree_names'] + data[\n",
    "    'major_field_of_studies'] + data['positions'] + data['responsibilities']\n",
    "new_data['match_score'] = data['matched_score'].astype(float)"
   ],
   "id": "6cc246bee0ae8d8a",
   "outputs": [],
   "execution_count": 285
  },
  {
   "metadata": {
    "ExecuteTime": {
     "end_time": "2025-09-20T13:27:41.354197Z",
     "start_time": "2025-09-20T13:27:41.262275Z"
    }
   },
   "cell_type": "code",
   "source": [
    "print(new_data.head())\n",
    "print(new_data.info())"
   ],
   "id": "c01c129ca7b9306d",
   "outputs": [
    {
     "name": "stdout",
     "output_type": "stream",
     "text": [
      "                                          resume_job  match_score\n",
      "0  ['Big Data', 'Hadoop', 'Hive', 'Python', 'Mapr...     0.850000\n",
      "1  ['Data Analysis', 'Data Analytics', 'Business ...     0.750000\n",
      "2  ['Software Development', 'Machine Learning', '...     0.416667\n",
      "3  ['accounts payables', 'accounts receivables', ...     0.760000\n",
      "4  ['Analytical reasoning', 'Compliance testing k...     0.650000\n",
      "<class 'pandas.core.frame.DataFrame'>\n",
      "RangeIndex: 9544 entries, 0 to 9543\n",
      "Data columns (total 2 columns):\n",
      " #   Column       Non-Null Count  Dtype  \n",
      "---  ------       --------------  -----  \n",
      " 0   resume_job   9544 non-null   object \n",
      " 1   match_score  9544 non-null   float64\n",
      "dtypes: float64(1), object(1)\n",
      "memory usage: 149.2+ KB\n",
      "None\n"
     ]
    }
   ],
   "execution_count": 286
  },
  {
   "metadata": {
    "ExecuteTime": {
     "end_time": "2025-09-20T13:34:49.577607Z",
     "start_time": "2025-09-20T13:27:41.355186Z"
    }
   },
   "cell_type": "code",
   "source": "X = preprocessing(new_data['resume_job'])",
   "id": "2bcc9ef90c45e2ad",
   "outputs": [
    {
     "name": "stdout",
     "output_type": "stream",
     "text": [
      "Lowering sentences...\n",
      "Cleaning sentences...\n",
      "Tokenizing sentences...\n",
      "\n",
      "--- Generating embeddings with 'sentence-transformers' library (all-MiniLM-L6-v2) ---\n",
      "Embedding generation complete.\n",
      "Embedding generation complete.\n"
     ]
    }
   ],
   "execution_count": 287
  },
  {
   "metadata": {
    "ExecuteTime": {
     "end_time": "2025-09-20T13:34:49.593613Z",
     "start_time": "2025-09-20T13:34:49.577607Z"
    }
   },
   "cell_type": "code",
   "source": "Y = np.array(new_data['match_score'])",
   "id": "cf8ba9599f3f3364",
   "outputs": [],
   "execution_count": 288
  },
  {
   "metadata": {
    "ExecuteTime": {
     "end_time": "2025-09-20T13:34:49.704793Z",
     "start_time": "2025-09-20T13:34:49.593613Z"
    }
   },
   "cell_type": "code",
   "source": [
    "print(X.shape)\n",
    "print(Y.shape)"
   ],
   "id": "692be66243ededc4",
   "outputs": [
    {
     "name": "stdout",
     "output_type": "stream",
     "text": [
      "(9544, 384)\n",
      "(9544,)\n"
     ]
    }
   ],
   "execution_count": 289
  },
  {
   "metadata": {
    "ExecuteTime": {
     "end_time": "2025-09-20T13:34:49.784188Z",
     "start_time": "2025-09-20T13:34:49.706806Z"
    }
   },
   "cell_type": "code",
   "source": "x, x_test, y, y_test = train_test_split(X, Y, test_size=0.2, random_state=42)",
   "id": "bf7947094fb1b496",
   "outputs": [],
   "execution_count": 290
  },
  {
   "metadata": {
    "ExecuteTime": {
     "end_time": "2025-09-20T13:34:49.863833Z",
     "start_time": "2025-09-20T13:34:49.784188Z"
    }
   },
   "cell_type": "code",
   "source": "x_train, x_val, y_train, y_val = train_test_split(x, y, test_size=0.25, random_state=42)",
   "id": "870f3a5794ce02e9",
   "outputs": [],
   "execution_count": 291
  },
  {
   "metadata": {
    "ExecuteTime": {
     "end_time": "2025-09-20T13:34:49.959760Z",
     "start_time": "2025-09-20T13:34:49.863833Z"
    }
   },
   "cell_type": "code",
   "source": "print(x_train.shape, x_val.shape, x_test.shape, y_train.shape, y_val.shape, y_test.shape)",
   "id": "3431548496746735",
   "outputs": [
    {
     "name": "stdout",
     "output_type": "stream",
     "text": [
      "(5726, 384) (1909, 384) (1909, 384) (5726,) (1909,) (1909,)\n"
     ]
    }
   ],
   "execution_count": 292
  },
  {
   "metadata": {
    "ExecuteTime": {
     "end_time": "2025-09-20T13:34:50.070406Z",
     "start_time": "2025-09-20T13:34:49.959760Z"
    }
   },
   "cell_type": "code",
   "source": [
    "model = Ridge(alpha=0.04, max_iter=1000, random_state=42)\n",
    "model.fit(x_train, y_train)"
   ],
   "id": "8354efce5d5b714d",
   "outputs": [
    {
     "data": {
      "text/plain": [
       "Ridge(alpha=0.04, max_iter=1000, random_state=42)"
      ],
      "text/html": [
       "<style>#sk-container-id-18 {\n",
       "  /* Definition of color scheme common for light and dark mode */\n",
       "  --sklearn-color-text: #000;\n",
       "  --sklearn-color-text-muted: #666;\n",
       "  --sklearn-color-line: gray;\n",
       "  /* Definition of color scheme for unfitted estimators */\n",
       "  --sklearn-color-unfitted-level-0: #fff5e6;\n",
       "  --sklearn-color-unfitted-level-1: #f6e4d2;\n",
       "  --sklearn-color-unfitted-level-2: #ffe0b3;\n",
       "  --sklearn-color-unfitted-level-3: chocolate;\n",
       "  /* Definition of color scheme for fitted estimators */\n",
       "  --sklearn-color-fitted-level-0: #f0f8ff;\n",
       "  --sklearn-color-fitted-level-1: #d4ebff;\n",
       "  --sklearn-color-fitted-level-2: #b3dbfd;\n",
       "  --sklearn-color-fitted-level-3: cornflowerblue;\n",
       "\n",
       "  /* Specific color for light theme */\n",
       "  --sklearn-color-text-on-default-background: var(--sg-text-color, var(--theme-code-foreground, var(--jp-content-font-color1, black)));\n",
       "  --sklearn-color-background: var(--sg-background-color, var(--theme-background, var(--jp-layout-color0, white)));\n",
       "  --sklearn-color-border-box: var(--sg-text-color, var(--theme-code-foreground, var(--jp-content-font-color1, black)));\n",
       "  --sklearn-color-icon: #696969;\n",
       "\n",
       "  @media (prefers-color-scheme: dark) {\n",
       "    /* Redefinition of color scheme for dark theme */\n",
       "    --sklearn-color-text-on-default-background: var(--sg-text-color, var(--theme-code-foreground, var(--jp-content-font-color1, white)));\n",
       "    --sklearn-color-background: var(--sg-background-color, var(--theme-background, var(--jp-layout-color0, #111)));\n",
       "    --sklearn-color-border-box: var(--sg-text-color, var(--theme-code-foreground, var(--jp-content-font-color1, white)));\n",
       "    --sklearn-color-icon: #878787;\n",
       "  }\n",
       "}\n",
       "\n",
       "#sk-container-id-18 {\n",
       "  color: var(--sklearn-color-text);\n",
       "}\n",
       "\n",
       "#sk-container-id-18 pre {\n",
       "  padding: 0;\n",
       "}\n",
       "\n",
       "#sk-container-id-18 input.sk-hidden--visually {\n",
       "  border: 0;\n",
       "  clip: rect(1px 1px 1px 1px);\n",
       "  clip: rect(1px, 1px, 1px, 1px);\n",
       "  height: 1px;\n",
       "  margin: -1px;\n",
       "  overflow: hidden;\n",
       "  padding: 0;\n",
       "  position: absolute;\n",
       "  width: 1px;\n",
       "}\n",
       "\n",
       "#sk-container-id-18 div.sk-dashed-wrapped {\n",
       "  border: 1px dashed var(--sklearn-color-line);\n",
       "  margin: 0 0.4em 0.5em 0.4em;\n",
       "  box-sizing: border-box;\n",
       "  padding-bottom: 0.4em;\n",
       "  background-color: var(--sklearn-color-background);\n",
       "}\n",
       "\n",
       "#sk-container-id-18 div.sk-container {\n",
       "  /* jupyter's `normalize.less` sets `[hidden] { display: none; }`\n",
       "     but bootstrap.min.css set `[hidden] { display: none !important; }`\n",
       "     so we also need the `!important` here to be able to override the\n",
       "     default hidden behavior on the sphinx rendered scikit-learn.org.\n",
       "     See: https://github.com/scikit-learn/scikit-learn/issues/21755 */\n",
       "  display: inline-block !important;\n",
       "  position: relative;\n",
       "}\n",
       "\n",
       "#sk-container-id-18 div.sk-text-repr-fallback {\n",
       "  display: none;\n",
       "}\n",
       "\n",
       "div.sk-parallel-item,\n",
       "div.sk-serial,\n",
       "div.sk-item {\n",
       "  /* draw centered vertical line to link estimators */\n",
       "  background-image: linear-gradient(var(--sklearn-color-text-on-default-background), var(--sklearn-color-text-on-default-background));\n",
       "  background-size: 2px 100%;\n",
       "  background-repeat: no-repeat;\n",
       "  background-position: center center;\n",
       "}\n",
       "\n",
       "/* Parallel-specific style estimator block */\n",
       "\n",
       "#sk-container-id-18 div.sk-parallel-item::after {\n",
       "  content: \"\";\n",
       "  width: 100%;\n",
       "  border-bottom: 2px solid var(--sklearn-color-text-on-default-background);\n",
       "  flex-grow: 1;\n",
       "}\n",
       "\n",
       "#sk-container-id-18 div.sk-parallel {\n",
       "  display: flex;\n",
       "  align-items: stretch;\n",
       "  justify-content: center;\n",
       "  background-color: var(--sklearn-color-background);\n",
       "  position: relative;\n",
       "}\n",
       "\n",
       "#sk-container-id-18 div.sk-parallel-item {\n",
       "  display: flex;\n",
       "  flex-direction: column;\n",
       "}\n",
       "\n",
       "#sk-container-id-18 div.sk-parallel-item:first-child::after {\n",
       "  align-self: flex-end;\n",
       "  width: 50%;\n",
       "}\n",
       "\n",
       "#sk-container-id-18 div.sk-parallel-item:last-child::after {\n",
       "  align-self: flex-start;\n",
       "  width: 50%;\n",
       "}\n",
       "\n",
       "#sk-container-id-18 div.sk-parallel-item:only-child::after {\n",
       "  width: 0;\n",
       "}\n",
       "\n",
       "/* Serial-specific style estimator block */\n",
       "\n",
       "#sk-container-id-18 div.sk-serial {\n",
       "  display: flex;\n",
       "  flex-direction: column;\n",
       "  align-items: center;\n",
       "  background-color: var(--sklearn-color-background);\n",
       "  padding-right: 1em;\n",
       "  padding-left: 1em;\n",
       "}\n",
       "\n",
       "\n",
       "/* Toggleable style: style used for estimator/Pipeline/ColumnTransformer box that is\n",
       "clickable and can be expanded/collapsed.\n",
       "- Pipeline and ColumnTransformer use this feature and define the default style\n",
       "- Estimators will overwrite some part of the style using the `sk-estimator` class\n",
       "*/\n",
       "\n",
       "/* Pipeline and ColumnTransformer style (default) */\n",
       "\n",
       "#sk-container-id-18 div.sk-toggleable {\n",
       "  /* Default theme specific background. It is overwritten whether we have a\n",
       "  specific estimator or a Pipeline/ColumnTransformer */\n",
       "  background-color: var(--sklearn-color-background);\n",
       "}\n",
       "\n",
       "/* Toggleable label */\n",
       "#sk-container-id-18 label.sk-toggleable__label {\n",
       "  cursor: pointer;\n",
       "  display: flex;\n",
       "  width: 100%;\n",
       "  margin-bottom: 0;\n",
       "  padding: 0.5em;\n",
       "  box-sizing: border-box;\n",
       "  text-align: center;\n",
       "  align-items: start;\n",
       "  justify-content: space-between;\n",
       "  gap: 0.5em;\n",
       "}\n",
       "\n",
       "#sk-container-id-18 label.sk-toggleable__label .caption {\n",
       "  font-size: 0.6rem;\n",
       "  font-weight: lighter;\n",
       "  color: var(--sklearn-color-text-muted);\n",
       "}\n",
       "\n",
       "#sk-container-id-18 label.sk-toggleable__label-arrow:before {\n",
       "  /* Arrow on the left of the label */\n",
       "  content: \"▸\";\n",
       "  float: left;\n",
       "  margin-right: 0.25em;\n",
       "  color: var(--sklearn-color-icon);\n",
       "}\n",
       "\n",
       "#sk-container-id-18 label.sk-toggleable__label-arrow:hover:before {\n",
       "  color: var(--sklearn-color-text);\n",
       "}\n",
       "\n",
       "/* Toggleable content - dropdown */\n",
       "\n",
       "#sk-container-id-18 div.sk-toggleable__content {\n",
       "  max-height: 0;\n",
       "  max-width: 0;\n",
       "  overflow: hidden;\n",
       "  text-align: left;\n",
       "  /* unfitted */\n",
       "  background-color: var(--sklearn-color-unfitted-level-0);\n",
       "}\n",
       "\n",
       "#sk-container-id-18 div.sk-toggleable__content.fitted {\n",
       "  /* fitted */\n",
       "  background-color: var(--sklearn-color-fitted-level-0);\n",
       "}\n",
       "\n",
       "#sk-container-id-18 div.sk-toggleable__content pre {\n",
       "  margin: 0.2em;\n",
       "  border-radius: 0.25em;\n",
       "  color: var(--sklearn-color-text);\n",
       "  /* unfitted */\n",
       "  background-color: var(--sklearn-color-unfitted-level-0);\n",
       "}\n",
       "\n",
       "#sk-container-id-18 div.sk-toggleable__content.fitted pre {\n",
       "  /* unfitted */\n",
       "  background-color: var(--sklearn-color-fitted-level-0);\n",
       "}\n",
       "\n",
       "#sk-container-id-18 input.sk-toggleable__control:checked~div.sk-toggleable__content {\n",
       "  /* Expand drop-down */\n",
       "  max-height: 200px;\n",
       "  max-width: 100%;\n",
       "  overflow: auto;\n",
       "}\n",
       "\n",
       "#sk-container-id-18 input.sk-toggleable__control:checked~label.sk-toggleable__label-arrow:before {\n",
       "  content: \"▾\";\n",
       "}\n",
       "\n",
       "/* Pipeline/ColumnTransformer-specific style */\n",
       "\n",
       "#sk-container-id-18 div.sk-label input.sk-toggleable__control:checked~label.sk-toggleable__label {\n",
       "  color: var(--sklearn-color-text);\n",
       "  background-color: var(--sklearn-color-unfitted-level-2);\n",
       "}\n",
       "\n",
       "#sk-container-id-18 div.sk-label.fitted input.sk-toggleable__control:checked~label.sk-toggleable__label {\n",
       "  background-color: var(--sklearn-color-fitted-level-2);\n",
       "}\n",
       "\n",
       "/* Estimator-specific style */\n",
       "\n",
       "/* Colorize estimator box */\n",
       "#sk-container-id-18 div.sk-estimator input.sk-toggleable__control:checked~label.sk-toggleable__label {\n",
       "  /* unfitted */\n",
       "  background-color: var(--sklearn-color-unfitted-level-2);\n",
       "}\n",
       "\n",
       "#sk-container-id-18 div.sk-estimator.fitted input.sk-toggleable__control:checked~label.sk-toggleable__label {\n",
       "  /* fitted */\n",
       "  background-color: var(--sklearn-color-fitted-level-2);\n",
       "}\n",
       "\n",
       "#sk-container-id-18 div.sk-label label.sk-toggleable__label,\n",
       "#sk-container-id-18 div.sk-label label {\n",
       "  /* The background is the default theme color */\n",
       "  color: var(--sklearn-color-text-on-default-background);\n",
       "}\n",
       "\n",
       "/* On hover, darken the color of the background */\n",
       "#sk-container-id-18 div.sk-label:hover label.sk-toggleable__label {\n",
       "  color: var(--sklearn-color-text);\n",
       "  background-color: var(--sklearn-color-unfitted-level-2);\n",
       "}\n",
       "\n",
       "/* Label box, darken color on hover, fitted */\n",
       "#sk-container-id-18 div.sk-label.fitted:hover label.sk-toggleable__label.fitted {\n",
       "  color: var(--sklearn-color-text);\n",
       "  background-color: var(--sklearn-color-fitted-level-2);\n",
       "}\n",
       "\n",
       "/* Estimator label */\n",
       "\n",
       "#sk-container-id-18 div.sk-label label {\n",
       "  font-family: monospace;\n",
       "  font-weight: bold;\n",
       "  display: inline-block;\n",
       "  line-height: 1.2em;\n",
       "}\n",
       "\n",
       "#sk-container-id-18 div.sk-label-container {\n",
       "  text-align: center;\n",
       "}\n",
       "\n",
       "/* Estimator-specific */\n",
       "#sk-container-id-18 div.sk-estimator {\n",
       "  font-family: monospace;\n",
       "  border: 1px dotted var(--sklearn-color-border-box);\n",
       "  border-radius: 0.25em;\n",
       "  box-sizing: border-box;\n",
       "  margin-bottom: 0.5em;\n",
       "  /* unfitted */\n",
       "  background-color: var(--sklearn-color-unfitted-level-0);\n",
       "}\n",
       "\n",
       "#sk-container-id-18 div.sk-estimator.fitted {\n",
       "  /* fitted */\n",
       "  background-color: var(--sklearn-color-fitted-level-0);\n",
       "}\n",
       "\n",
       "/* on hover */\n",
       "#sk-container-id-18 div.sk-estimator:hover {\n",
       "  /* unfitted */\n",
       "  background-color: var(--sklearn-color-unfitted-level-2);\n",
       "}\n",
       "\n",
       "#sk-container-id-18 div.sk-estimator.fitted:hover {\n",
       "  /* fitted */\n",
       "  background-color: var(--sklearn-color-fitted-level-2);\n",
       "}\n",
       "\n",
       "/* Specification for estimator info (e.g. \"i\" and \"?\") */\n",
       "\n",
       "/* Common style for \"i\" and \"?\" */\n",
       "\n",
       ".sk-estimator-doc-link,\n",
       "a:link.sk-estimator-doc-link,\n",
       "a:visited.sk-estimator-doc-link {\n",
       "  float: right;\n",
       "  font-size: smaller;\n",
       "  line-height: 1em;\n",
       "  font-family: monospace;\n",
       "  background-color: var(--sklearn-color-background);\n",
       "  border-radius: 1em;\n",
       "  height: 1em;\n",
       "  width: 1em;\n",
       "  text-decoration: none !important;\n",
       "  margin-left: 0.5em;\n",
       "  text-align: center;\n",
       "  /* unfitted */\n",
       "  border: var(--sklearn-color-unfitted-level-1) 1pt solid;\n",
       "  color: var(--sklearn-color-unfitted-level-1);\n",
       "}\n",
       "\n",
       ".sk-estimator-doc-link.fitted,\n",
       "a:link.sk-estimator-doc-link.fitted,\n",
       "a:visited.sk-estimator-doc-link.fitted {\n",
       "  /* fitted */\n",
       "  border: var(--sklearn-color-fitted-level-1) 1pt solid;\n",
       "  color: var(--sklearn-color-fitted-level-1);\n",
       "}\n",
       "\n",
       "/* On hover */\n",
       "div.sk-estimator:hover .sk-estimator-doc-link:hover,\n",
       ".sk-estimator-doc-link:hover,\n",
       "div.sk-label-container:hover .sk-estimator-doc-link:hover,\n",
       ".sk-estimator-doc-link:hover {\n",
       "  /* unfitted */\n",
       "  background-color: var(--sklearn-color-unfitted-level-3);\n",
       "  color: var(--sklearn-color-background);\n",
       "  text-decoration: none;\n",
       "}\n",
       "\n",
       "div.sk-estimator.fitted:hover .sk-estimator-doc-link.fitted:hover,\n",
       ".sk-estimator-doc-link.fitted:hover,\n",
       "div.sk-label-container:hover .sk-estimator-doc-link.fitted:hover,\n",
       ".sk-estimator-doc-link.fitted:hover {\n",
       "  /* fitted */\n",
       "  background-color: var(--sklearn-color-fitted-level-3);\n",
       "  color: var(--sklearn-color-background);\n",
       "  text-decoration: none;\n",
       "}\n",
       "\n",
       "/* Span, style for the box shown on hovering the info icon */\n",
       ".sk-estimator-doc-link span {\n",
       "  display: none;\n",
       "  z-index: 9999;\n",
       "  position: relative;\n",
       "  font-weight: normal;\n",
       "  right: .2ex;\n",
       "  padding: .5ex;\n",
       "  margin: .5ex;\n",
       "  width: min-content;\n",
       "  min-width: 20ex;\n",
       "  max-width: 50ex;\n",
       "  color: var(--sklearn-color-text);\n",
       "  box-shadow: 2pt 2pt 4pt #999;\n",
       "  /* unfitted */\n",
       "  background: var(--sklearn-color-unfitted-level-0);\n",
       "  border: .5pt solid var(--sklearn-color-unfitted-level-3);\n",
       "}\n",
       "\n",
       ".sk-estimator-doc-link.fitted span {\n",
       "  /* fitted */\n",
       "  background: var(--sklearn-color-fitted-level-0);\n",
       "  border: var(--sklearn-color-fitted-level-3);\n",
       "}\n",
       "\n",
       ".sk-estimator-doc-link:hover span {\n",
       "  display: block;\n",
       "}\n",
       "\n",
       "/* \"?\"-specific style due to the `<a>` HTML tag */\n",
       "\n",
       "#sk-container-id-18 a.estimator_doc_link {\n",
       "  float: right;\n",
       "  font-size: 1rem;\n",
       "  line-height: 1em;\n",
       "  font-family: monospace;\n",
       "  background-color: var(--sklearn-color-background);\n",
       "  border-radius: 1rem;\n",
       "  height: 1rem;\n",
       "  width: 1rem;\n",
       "  text-decoration: none;\n",
       "  /* unfitted */\n",
       "  color: var(--sklearn-color-unfitted-level-1);\n",
       "  border: var(--sklearn-color-unfitted-level-1) 1pt solid;\n",
       "}\n",
       "\n",
       "#sk-container-id-18 a.estimator_doc_link.fitted {\n",
       "  /* fitted */\n",
       "  border: var(--sklearn-color-fitted-level-1) 1pt solid;\n",
       "  color: var(--sklearn-color-fitted-level-1);\n",
       "}\n",
       "\n",
       "/* On hover */\n",
       "#sk-container-id-18 a.estimator_doc_link:hover {\n",
       "  /* unfitted */\n",
       "  background-color: var(--sklearn-color-unfitted-level-3);\n",
       "  color: var(--sklearn-color-background);\n",
       "  text-decoration: none;\n",
       "}\n",
       "\n",
       "#sk-container-id-18 a.estimator_doc_link.fitted:hover {\n",
       "  /* fitted */\n",
       "  background-color: var(--sklearn-color-fitted-level-3);\n",
       "}\n",
       "</style><div id=\"sk-container-id-18\" class=\"sk-top-container\"><div class=\"sk-text-repr-fallback\"><pre>Ridge(alpha=0.04, max_iter=1000, random_state=42)</pre><b>In a Jupyter environment, please rerun this cell to show the HTML representation or trust the notebook. <br />On GitHub, the HTML representation is unable to render, please try loading this page with nbviewer.org.</b></div><div class=\"sk-container\" hidden><div class=\"sk-item\"><div class=\"sk-estimator fitted sk-toggleable\"><input class=\"sk-toggleable__control sk-hidden--visually\" id=\"sk-estimator-id-18\" type=\"checkbox\" checked><label for=\"sk-estimator-id-18\" class=\"sk-toggleable__label fitted sk-toggleable__label-arrow\"><div><div>Ridge</div></div><div><a class=\"sk-estimator-doc-link fitted\" rel=\"noreferrer\" target=\"_blank\" href=\"https://scikit-learn.org/1.6/modules/generated/sklearn.linear_model.Ridge.html\">?<span>Documentation for Ridge</span></a><span class=\"sk-estimator-doc-link fitted\">i<span>Fitted</span></span></div></label><div class=\"sk-toggleable__content fitted\"><pre>Ridge(alpha=0.04, max_iter=1000, random_state=42)</pre></div> </div></div></div></div>"
      ]
     },
     "execution_count": 293,
     "metadata": {},
     "output_type": "execute_result"
    }
   ],
   "execution_count": 293
  },
  {
   "metadata": {
    "ExecuteTime": {
     "end_time": "2025-09-20T13:34:50.114656Z",
     "start_time": "2025-09-20T13:34:50.070406Z"
    }
   },
   "cell_type": "code",
   "source": "print(mean_squared_error(y_val, model.predict(x_val)))",
   "id": "1b178e7e8ba71262",
   "outputs": [
    {
     "name": "stdout",
     "output_type": "stream",
     "text": [
      "0.015410870766941845\n"
     ]
    }
   ],
   "execution_count": 294
  },
  {
   "metadata": {
    "ExecuteTime": {
     "end_time": "2025-09-20T13:34:50.192018Z",
     "start_time": "2025-09-20T13:34:50.116324Z"
    }
   },
   "cell_type": "code",
   "source": "print(mean_squared_error(y_test, model.predict(x_test)))",
   "id": "69c9c4ad58021fb0",
   "outputs": [
    {
     "name": "stdout",
     "output_type": "stream",
     "text": [
      "0.013800027724212129\n"
     ]
    }
   ],
   "execution_count": 295
  },
  {
   "metadata": {
    "ExecuteTime": {
     "end_time": "2025-09-20T13:34:50.271058Z",
     "start_time": "2025-09-20T13:34:50.193990Z"
    }
   },
   "cell_type": "code",
   "source": [
    "random_resumes_idxs = np.random.choice(len(data), 20, replace=False)\n",
    "print(random_resumes_idxs)"
   ],
   "id": "9a95e0fdb0109fb0",
   "outputs": [
    {
     "name": "stdout",
     "output_type": "stream",
     "text": [
      "[5996 6531 7550  425 1234 7418 8983 2582 8306 8812 3895 2575 4763 8108\n",
      " 3043 3831 2327 2955  857 6781]\n"
     ]
    }
   ],
   "execution_count": 296
  },
  {
   "metadata": {
    "ExecuteTime": {
     "end_time": "2025-09-20T13:34:50.398111Z",
     "start_time": "2025-09-20T13:34:50.271058Z"
    }
   },
   "cell_type": "code",
   "source": [
    "random_resumes = pd.DataFrame()\n",
    "for i in ['skills',\n",
    "          'career_objective',\n",
    "          'degree_names',\n",
    "          'major_field_of_studies']:\n",
    "    random_resumes[i] = data.loc[random_resumes_idxs][i]"
   ],
   "id": "cf94138215169de1",
   "outputs": [],
   "execution_count": 297
  },
  {
   "metadata": {
    "ExecuteTime": {
     "end_time": "2025-09-20T13:34:50.477138Z",
     "start_time": "2025-09-20T13:34:50.398111Z"
    }
   },
   "cell_type": "code",
   "source": [
    "random_resumes_trial_1 = pd.DataFrame(random_resumes)\n",
    "random_resumes_trial_2 = pd.DataFrame(random_resumes)\n"
   ],
   "id": "db6e1be3bceba928",
   "outputs": [],
   "execution_count": 298
  },
  {
   "metadata": {
    "ExecuteTime": {
     "end_time": "2025-09-20T13:34:50.557513Z",
     "start_time": "2025-09-20T13:34:50.477138Z"
    }
   },
   "cell_type": "code",
   "source": [
    "trial_1 = {\n",
    "    \"positions\": \"Data Scientist\"\n",
    "    ,\n",
    "    \"responsibilities\":\n",
    "        \"Develop and implement machine learning models to solve business problems.\" +\n",
    "        \"Perform exploratory data analysis to identify trends, patterns, and insights.\" +\n",
    "        \"Clean, preprocess, and wrangle large datasets from various sources.\" +\n",
    "        \"Design and conduct A/B tests to evaluate product features and marketing strategies.\" +\n",
    "        \"Communicate findings and recommendations to stakeholders through visualizations and reports.\" +\n",
    "        \"Collaborate with engineering teams to deploy models into production environments.\"\n",
    "\n",
    "}\n",
    "trial_2 = {\n",
    "    \"positions\": \"Software Engineer\",\n",
    "    \"responsibilities\":\n",
    "\n",
    "        \"Design, develop, and maintain scalable and robust software applications.\" +\n",
    "        \"Write clean, efficient, and well-documented code in languages such as Python, Java, or C++.\" +\n",
    "        \"Collaborate with cross-functional teams including product managers and designers to deliver high-quality software.\" +\n",
    "        \"Participate in code reviews to maintain code quality and share knowledge.\" +\n",
    "        \"Troubleshoot, debug, and upgrade existing software systems.\" +\n",
    "        \"Implement and maintain CI/CD pipelines for automated testing and deployment.\"\n",
    "\n",
    "}"
   ],
   "id": "6b96154968b75046",
   "outputs": [],
   "execution_count": 299
  },
  {
   "metadata": {
    "ExecuteTime": {
     "end_time": "2025-09-20T13:34:50.653248Z",
     "start_time": "2025-09-20T13:34:50.557513Z"
    }
   },
   "cell_type": "code",
   "source": [
    "random_resumes_trial_1[['positions', 'responsibilities']] = pd.DataFrame(columns=['positions', 'responsibilities'],\n",
    "                                                                         dtype=str)\n",
    "random_resumes_trial_2[['positions', 'responsibilities']] = pd.DataFrame(columns=['positions', 'responsibilities'],\n",
    "                                                                         dtype=str)\n",
    "random_resumes_trial_1['positions'].fillna(trial_1['positions'], inplace=True)\n",
    "random_resumes_trial_2['positions'].fillna(trial_2['positions'], inplace=True)\n",
    "random_resumes_trial_1['responsibilities'].fillna(trial_1['responsibilities'], inplace=True)\n",
    "random_resumes_trial_2['responsibilities'].fillna(trial_2['responsibilities'], inplace=True)\n"
   ],
   "id": "83cb26685aba9ca3",
   "outputs": [
    {
     "name": "stderr",
     "output_type": "stream",
     "text": [
      "C:\\Users\\Kagero\\AppData\\Local\\Temp\\ipykernel_33268\\631314006.py:5: FutureWarning: A value is trying to be set on a copy of a DataFrame or Series through chained assignment using an inplace method.\n",
      "The behavior will change in pandas 3.0. This inplace method will never work because the intermediate object on which we are setting values always behaves as a copy.\n",
      "\n",
      "For example, when doing 'df[col].method(value, inplace=True)', try using 'df.method({col: value}, inplace=True)' or df[col] = df[col].method(value) instead, to perform the operation inplace on the original object.\n",
      "\n",
      "\n",
      "  random_resumes_trial_1['positions'].fillna(trial_1['positions'], inplace=True)\n",
      "C:\\Users\\Kagero\\AppData\\Local\\Temp\\ipykernel_33268\\631314006.py:6: FutureWarning: A value is trying to be set on a copy of a DataFrame or Series through chained assignment using an inplace method.\n",
      "The behavior will change in pandas 3.0. This inplace method will never work because the intermediate object on which we are setting values always behaves as a copy.\n",
      "\n",
      "For example, when doing 'df[col].method(value, inplace=True)', try using 'df.method({col: value}, inplace=True)' or df[col] = df[col].method(value) instead, to perform the operation inplace on the original object.\n",
      "\n",
      "\n",
      "  random_resumes_trial_2['positions'].fillna(trial_2['positions'], inplace=True)\n",
      "C:\\Users\\Kagero\\AppData\\Local\\Temp\\ipykernel_33268\\631314006.py:7: FutureWarning: A value is trying to be set on a copy of a DataFrame or Series through chained assignment using an inplace method.\n",
      "The behavior will change in pandas 3.0. This inplace method will never work because the intermediate object on which we are setting values always behaves as a copy.\n",
      "\n",
      "For example, when doing 'df[col].method(value, inplace=True)', try using 'df.method({col: value}, inplace=True)' or df[col] = df[col].method(value) instead, to perform the operation inplace on the original object.\n",
      "\n",
      "\n",
      "  random_resumes_trial_1['responsibilities'].fillna(trial_1['responsibilities'], inplace=True)\n",
      "C:\\Users\\Kagero\\AppData\\Local\\Temp\\ipykernel_33268\\631314006.py:8: FutureWarning: A value is trying to be set on a copy of a DataFrame or Series through chained assignment using an inplace method.\n",
      "The behavior will change in pandas 3.0. This inplace method will never work because the intermediate object on which we are setting values always behaves as a copy.\n",
      "\n",
      "For example, when doing 'df[col].method(value, inplace=True)', try using 'df.method({col: value}, inplace=True)' or df[col] = df[col].method(value) instead, to perform the operation inplace on the original object.\n",
      "\n",
      "\n",
      "  random_resumes_trial_2['responsibilities'].fillna(trial_2['responsibilities'], inplace=True)\n"
     ]
    }
   ],
   "execution_count": 300
  },
  {
   "metadata": {
    "ExecuteTime": {
     "end_time": "2025-09-20T13:34:50.732625Z",
     "start_time": "2025-09-20T13:34:50.653248Z"
    }
   },
   "cell_type": "code",
   "source": [
    "print(random_resumes_trial_1.columns)\n",
    "print(random_resumes_trial_2.columns)"
   ],
   "id": "3725039e49355b5a",
   "outputs": [
    {
     "name": "stdout",
     "output_type": "stream",
     "text": [
      "Index(['skills', 'career_objective', 'degree_names', 'major_field_of_studies',\n",
      "       'positions', 'responsibilities'],\n",
      "      dtype='object')\n",
      "Index(['skills', 'career_objective', 'degree_names', 'major_field_of_studies',\n",
      "       'positions', 'responsibilities'],\n",
      "      dtype='object')\n"
     ]
    }
   ],
   "execution_count": 301
  },
  {
   "metadata": {
    "ExecuteTime": {
     "end_time": "2025-09-20T13:34:50.796253Z",
     "start_time": "2025-09-20T13:34:50.732625Z"
    }
   },
   "cell_type": "code",
   "source": [
    "new_trial_1 = pd.DataFrame(columns=[\"resume_job\"])\n",
    "new_trial_2 = pd.DataFrame(columns=[\"resume_job\"])\n",
    "new_trial_1['resume_job'] = random_resumes_trial_1['skills'] + random_resumes_trial_1['career_objective'] + \\\n",
    "                            random_resumes_trial_1['degree_names'] + random_resumes_trial_1[\n",
    "                                'major_field_of_studies'] + random_resumes_trial_1['positions'] + \\\n",
    "                            random_resumes_trial_1['responsibilities']\n",
    "new_trial_2['resume_job'] = random_resumes_trial_2['skills'] + random_resumes_trial_2['career_objective'] + \\\n",
    "                            random_resumes_trial_2['degree_names'] + random_resumes_trial_2[\n",
    "                                'major_field_of_studies'] + random_resumes_trial_2['positions'] + \\\n",
    "                            random_resumes_trial_2['responsibilities']"
   ],
   "id": "2a70700d6a7a1c32",
   "outputs": [],
   "execution_count": 302
  },
  {
   "metadata": {
    "ExecuteTime": {
     "end_time": "2025-09-20T13:34:50.891641Z",
     "start_time": "2025-09-20T13:34:50.796253Z"
    }
   },
   "cell_type": "code",
   "source": [
    "for col in new_trial_1.columns:\n",
    "    new_trial_1[col]=new_trial_1[col].astype(str)\n",
    "    new_trial_2[col]=new_trial_2[col].astype(str)"
   ],
   "id": "3b04ebf5ed17927c",
   "outputs": [],
   "execution_count": 303
  },
  {
   "metadata": {
    "ExecuteTime": {
     "end_time": "2025-09-20T13:34:57.567061Z",
     "start_time": "2025-09-20T13:34:50.891641Z"
    }
   },
   "cell_type": "code",
   "source": [
    "x_trial_1=preprocessing(new_trial_1['resume_job'])\n",
    "x_trial_2=preprocessing(new_trial_2['resume_job'])"
   ],
   "id": "cc6617d5b8436ce9",
   "outputs": [
    {
     "name": "stdout",
     "output_type": "stream",
     "text": [
      "Lowering sentences...\n",
      "Cleaning sentences...\n",
      "Tokenizing sentences...\n",
      "\n",
      "--- Generating embeddings with 'sentence-transformers' library (all-MiniLM-L6-v2) ---\n",
      "Embedding generation complete.\n",
      "Embedding generation complete.\n",
      "Lowering sentences...\n",
      "Cleaning sentences...\n",
      "Tokenizing sentences...\n",
      "\n",
      "--- Generating embeddings with 'sentence-transformers' library (all-MiniLM-L6-v2) ---\n",
      "Embedding generation complete.\n",
      "Embedding generation complete.\n"
     ]
    }
   ],
   "execution_count": 304
  },
  {
   "metadata": {
    "ExecuteTime": {
     "end_time": "2025-09-20T13:34:57.582898Z",
     "start_time": "2025-09-20T13:34:57.569071Z"
    }
   },
   "cell_type": "code",
   "source": [
    "trial_1_predictions = np.array(model.predict(x_trial_1))\n",
    "trial_2_predictions = np.array(model.predict(x_trial_2))"
   ],
   "id": "d53626b4e5ccb469",
   "outputs": [],
   "execution_count": 305
  },
  {
   "metadata": {
    "ExecuteTime": {
     "end_time": "2025-09-20T13:34:57.661685Z",
     "start_time": "2025-09-20T13:34:57.584909Z"
    }
   },
   "cell_type": "code",
   "source": [
    "print(trial_1_predictions)\n",
    "print(trial_2_predictions)"
   ],
   "id": "91af670b15712d57",
   "outputs": [
    {
     "name": "stdout",
     "output_type": "stream",
     "text": [
      "[0.6164988  0.62092155 0.6840404  0.49399412 0.52638066 0.74659884\n",
      " 0.5584202  0.6060369  0.5910728  0.61839306 0.4997305  0.60806876\n",
      " 0.5512189  0.5609694  0.5584202  0.54724205 0.6210226  0.58063805\n",
      " 0.39846358 0.5853854 ]\n",
      "[0.697981   0.6696443  0.7505527  0.45525247 0.58501995 0.7160052\n",
      " 0.6030106  0.6879548  0.608755   0.55714357 0.5207721  0.6276414\n",
      " 0.6052947  0.5785549  0.6030106  0.5694086  0.63848734 0.5422159\n",
      " 0.38295513 0.51088583]\n"
     ]
    }
   ],
   "execution_count": 306
  },
  {
   "metadata": {
    "ExecuteTime": {
     "end_time": "2025-09-20T13:34:57.772865Z",
     "start_time": "2025-09-20T13:34:57.663690Z"
    }
   },
   "cell_type": "code",
   "source": [
    "sorted_trial_1=np.argsort(trial_1_predictions)\n",
    "sorted_trial_2=np.argsort(trial_2_predictions)"
   ],
   "id": "1cca08bdd4734795",
   "outputs": [],
   "execution_count": 307
  },
  {
   "metadata": {
    "ExecuteTime": {
     "end_time": "2025-09-20T13:34:57.852277Z",
     "start_time": "2025-09-20T13:34:57.773998Z"
    }
   },
   "cell_type": "code",
   "source": [
    "for i in sorted_trial_1[::-1]:\n",
    "    print(random_resumes_trial_1.iloc[i])\n",
    "    print(f\"match score: {trial_1_predictions[i]}\")"
   ],
   "id": "683457f4e41db389",
   "outputs": [
    {
     "name": "stdout",
     "output_type": "stream",
     "text": [
      "skills                    ['Operations management', 'Change management',...\n",
      "career_objective                                                           \n",
      "degree_names                                      ['B.S', 'M.S', 'B.S.I.T']\n",
      "major_field_of_studies    ['Mechanical Engineering', 'Electrical Enginee...\n",
      "positions                                                    Data Scientist\n",
      "responsibilities          Develop and implement machine learning models ...\n",
      "Name: 7418, dtype: object\n",
      "match score: 0.7465988397598267\n",
      "skills                    ['Software Developer', 'Python', 'SQL', 'Machi...\n",
      "career_objective          Understanding and solving problems has been on...\n",
      "degree_names                                                        ['BCA']\n",
      "major_field_of_studies                                              ['N/A']\n",
      "positions                                                    Data Scientist\n",
      "responsibilities          Develop and implement machine learning models ...\n",
      "Name: 7550, dtype: object\n",
      "match score: 0.6840404272079468\n",
      "skills                    ['Python', 'MySQL', 'Tensorflow', 'Keras', 'Ma...\n",
      "career_objective          Currently looking for an opportunity in Machin...\n",
      "degree_names                                                     ['B.Tech']\n",
      "major_field_of_studies                                         ['Chemical']\n",
      "positions                                                    Data Scientist\n",
      "responsibilities          Develop and implement machine learning models ...\n",
      "Name: 2327, dtype: object\n",
      "match score: 0.6210225820541382\n",
      "skills                    ['Proactive', 'self-motivated', 'team player',...\n",
      "career_objective          Currently seeking the next career challenge of...\n",
      "degree_names              ['Master of Science', 'M. Eng', 'Bachelor of S...\n",
      "major_field_of_studies    ['Accounting and Finance', 'Aerospace Engineer...\n",
      "positions                                                    Data Scientist\n",
      "responsibilities          Develop and implement machine learning models ...\n",
      "Name: 6531, dtype: object\n",
      "match score: 0.6209215521812439\n",
      "skills                    ['Statistical Modeling', 'Natural Language Pro...\n",
      "career_objective          I am a software developer currently working on...\n",
      "degree_names                                                     ['B.Tech']\n",
      "major_field_of_studies                           ['Information Technology']\n",
      "positions                                                    Data Scientist\n",
      "responsibilities          Develop and implement machine learning models ...\n",
      "Name: 8812, dtype: object\n",
      "match score: 0.618393063545227\n",
      "skills                    ['Machine Learning', 'Data Mining', 'Artificia...\n",
      "career_objective          A Data Science enthusiast with a demonstrated ...\n",
      "degree_names                                               ['B.Com', 'MSc']\n",
      "major_field_of_studies                         ['Commerce', 'Data Science']\n",
      "positions                                                    Data Scientist\n",
      "responsibilities          Develop and implement machine learning models ...\n",
      "Name: 5996, dtype: object\n",
      "match score: 0.6164988279342651\n",
      "skills                    ['Team-oriented', 'Detail-oriented', 'Deadline...\n",
      "career_objective          Degreed accountant with more than 10 years of ...\n",
      "degree_names                                          [\"Bachelor's degree\"]\n",
      "major_field_of_studies                                       ['Accounting']\n",
      "positions                                                    Data Scientist\n",
      "responsibilities          Develop and implement machine learning models ...\n",
      "Name: 2575, dtype: object\n",
      "match score: 0.6080687642097473\n",
      "skills                    ['assembly', 'AutoCAD', 'automation', 'budgets...\n",
      "career_objective                                                           \n",
      "degree_names                                      [None, 'General Diploma']\n",
      "major_field_of_studies                                    ['AutoCad', None]\n",
      "positions                                                    Data Scientist\n",
      "responsibilities          Develop and implement machine learning models ...\n",
      "Name: 2582, dtype: object\n",
      "match score: 0.606036901473999\n",
      "skills                    ['Key decision making', 'Marketing', 'Verbal a...\n",
      "career_objective          Seasoned business development professional see...\n",
      "degree_names              ['Certified Professional Coach', 'Bachelor of ...\n",
      "major_field_of_studies    ['Coaching', 'Business Administration, Marketi...\n",
      "positions                                                    Data Scientist\n",
      "responsibilities          Develop and implement machine learning models ...\n",
      "Name: 8306, dtype: object\n",
      "match score: 0.5910727977752686\n",
      "skills                    ['billing', 'book', 'budgets', 'coaching', 'co...\n",
      "career_objective                                                           \n",
      "degree_names                  [\"Associate's degree\", 'Bachelor of Science']\n",
      "major_field_of_studies                            ['Early Education', None]\n",
      "positions                                                    Data Scientist\n",
      "responsibilities          Develop and implement machine learning models ...\n",
      "Name: 6781, dtype: object\n",
      "match score: 0.5853853821754456\n",
      "skills                    ['Business Analytics', 'Data Analysis', 'Machi...\n",
      "career_objective          I am looking for an opportunity to work as a D...\n",
      "degree_names                                                       ['B.Sc']\n",
      "major_field_of_studies                                       ['Statistics']\n",
      "positions                                                    Data Scientist\n",
      "responsibilities          Develop and implement machine learning models ...\n",
      "Name: 2955, dtype: object\n",
      "match score: 0.58063805103302\n",
      "skills                    ['Machine Learning', 'Deep Learning', 'Compute...\n",
      "career_objective          Skilled Machine Learning and Deep Learning pra...\n",
      "degree_names                                          ['B.Tech(Computers)']\n",
      "major_field_of_studies                                        ['Computers']\n",
      "positions                                                    Data Scientist\n",
      "responsibilities          Develop and implement machine learning models ...\n",
      "Name: 8108, dtype: object\n",
      "match score: 0.5609694123268127\n",
      "skills                    ['Data Analysis', 'Business Analysis', 'Statis...\n",
      "career_objective          Post Graduate Analyst experienced in Business ...\n",
      "degree_names                                                 ['BSc', 'MSc']\n",
      "major_field_of_studies    ['Statistics', 'Data Analysis and Statistical ...\n",
      "positions                                                    Data Scientist\n",
      "responsibilities          Develop and implement machine learning models ...\n",
      "Name: 8983, dtype: object\n",
      "match score: 0.5584201812744141\n",
      "skills                    ['Data Analysis', 'Business Analysis', 'Statis...\n",
      "career_objective          Post Graduate Analyst experienced in Business ...\n",
      "degree_names                                                 ['BSc', 'MSc']\n",
      "major_field_of_studies    ['Statistics', 'Data Analysis and Statistical ...\n",
      "positions                                                    Data Scientist\n",
      "responsibilities          Develop and implement machine learning models ...\n",
      "Name: 3043, dtype: object\n",
      "match score: 0.5584201812744141\n",
      "skills                    ['Data Analysis', 'Machine Learning', 'Scikit ...\n",
      "career_objective          Fresher who is dynamic and defined when it com...\n",
      "degree_names                                           ['B.Tech', 'M.Tech']\n",
      "major_field_of_studies                   ['Mechanical', 'Machine Learning']\n",
      "positions                                                    Data Scientist\n",
      "responsibilities          Develop and implement machine learning models ...\n",
      "Name: 4763, dtype: object\n",
      "match score: 0.5512189269065857\n",
      "skills                    ['Net, photo, agile, analyst', 'Apple', 'autom...\n",
      "career_objective                                                           \n",
      "degree_names                   ['Master of Science', 'Bachelor of Science']\n",
      "major_field_of_studies     ['Management of Technology', 'Computer Science']\n",
      "positions                                                    Data Scientist\n",
      "responsibilities          Develop and implement machine learning models ...\n",
      "Name: 3831, dtype: object\n",
      "match score: 0.5472420454025269\n",
      "skills                    ['Ability to make decisions and solve problems...\n",
      "career_objective          My full name is Kailie Marie Mahea'lani Gracii...\n",
      "degree_names                                 ['N/A', 'High School Diploma']\n",
      "major_field_of_studies                                       ['N/A', 'N/A']\n",
      "positions                                                    Data Scientist\n",
      "responsibilities          Develop and implement machine learning models ...\n",
      "Name: 1234, dtype: object\n",
      "match score: 0.5263806581497192\n",
      "skills                    ['Results-oriented', 'Operations management', ...\n",
      "career_objective                                                           \n",
      "degree_names              ['Associate Degree', 'Bachelor of Science degr...\n",
      "major_field_of_studies                         ['Accounting', 'Accounting']\n",
      "positions                                                    Data Scientist\n",
      "responsibilities          Develop and implement machine learning models ...\n",
      "Name: 3895, dtype: object\n",
      "match score: 0.49973049759864807\n",
      "skills                    ['assisted living', 'interpersonal and communi...\n",
      "career_objective                                                           \n",
      "degree_names                                                        ['B.A']\n",
      "major_field_of_studies    ['Organizational Communication Business Manage...\n",
      "positions                                                    Data Scientist\n",
      "responsibilities          Develop and implement machine learning models ...\n",
      "Name: 425, dtype: object\n",
      "match score: 0.4939941167831421\n",
      "skills                    ['agency', 'delivery', 'insurance', 'materials...\n",
      "career_objective                                                           \n",
      "degree_names                                           ['Bachelor of Arts']\n",
      "major_field_of_studies     ['Liberal Arts Environmental Studies Geography']\n",
      "positions                                                    Data Scientist\n",
      "responsibilities          Develop and implement machine learning models ...\n",
      "Name: 857, dtype: object\n",
      "match score: 0.39846357703208923\n"
     ]
    }
   ],
   "execution_count": 308
  },
  {
   "metadata": {
    "ExecuteTime": {
     "end_time": "2025-09-20T13:34:57.915819Z",
     "start_time": "2025-09-20T13:34:57.852277Z"
    }
   },
   "cell_type": "code",
   "source": [
    "for i in sorted_trial_2[::-1]:\n",
    "    print(random_resumes_trial_2.iloc[i])\n",
    "    print(f\"match score: {trial_2_predictions[i]}\")"
   ],
   "id": "c57fc5fa006b7833",
   "outputs": [
    {
     "name": "stdout",
     "output_type": "stream",
     "text": [
      "skills                    ['Software Developer', 'Python', 'SQL', 'Machi...\n",
      "career_objective          Understanding and solving problems has been on...\n",
      "degree_names                                                        ['BCA']\n",
      "major_field_of_studies                                              ['N/A']\n",
      "positions                                                 Software Engineer\n",
      "responsibilities          Design, develop, and maintain scalable and rob...\n",
      "Name: 7550, dtype: object\n",
      "match score: 0.7505527138710022\n",
      "skills                    ['Operations management', 'Change management',...\n",
      "career_objective                                                           \n",
      "degree_names                                      ['B.S', 'M.S', 'B.S.I.T']\n",
      "major_field_of_studies    ['Mechanical Engineering', 'Electrical Enginee...\n",
      "positions                                                 Software Engineer\n",
      "responsibilities          Design, develop, and maintain scalable and rob...\n",
      "Name: 7418, dtype: object\n",
      "match score: 0.7160052061080933\n",
      "skills                    ['Machine Learning', 'Data Mining', 'Artificia...\n",
      "career_objective          A Data Science enthusiast with a demonstrated ...\n",
      "degree_names                                               ['B.Com', 'MSc']\n",
      "major_field_of_studies                         ['Commerce', 'Data Science']\n",
      "positions                                                 Software Engineer\n",
      "responsibilities          Design, develop, and maintain scalable and rob...\n",
      "Name: 5996, dtype: object\n",
      "match score: 0.6979809999465942\n",
      "skills                    ['assembly', 'AutoCAD', 'automation', 'budgets...\n",
      "career_objective                                                           \n",
      "degree_names                                      [None, 'General Diploma']\n",
      "major_field_of_studies                                    ['AutoCad', None]\n",
      "positions                                                 Software Engineer\n",
      "responsibilities          Design, develop, and maintain scalable and rob...\n",
      "Name: 2582, dtype: object\n",
      "match score: 0.6879547834396362\n",
      "skills                    ['Proactive', 'self-motivated', 'team player',...\n",
      "career_objective          Currently seeking the next career challenge of...\n",
      "degree_names              ['Master of Science', 'M. Eng', 'Bachelor of S...\n",
      "major_field_of_studies    ['Accounting and Finance', 'Aerospace Engineer...\n",
      "positions                                                 Software Engineer\n",
      "responsibilities          Design, develop, and maintain scalable and rob...\n",
      "Name: 6531, dtype: object\n",
      "match score: 0.669644296169281\n",
      "skills                    ['Python', 'MySQL', 'Tensorflow', 'Keras', 'Ma...\n",
      "career_objective          Currently looking for an opportunity in Machin...\n",
      "degree_names                                                     ['B.Tech']\n",
      "major_field_of_studies                                         ['Chemical']\n",
      "positions                                                 Software Engineer\n",
      "responsibilities          Design, develop, and maintain scalable and rob...\n",
      "Name: 2327, dtype: object\n",
      "match score: 0.6384873390197754\n",
      "skills                    ['Team-oriented', 'Detail-oriented', 'Deadline...\n",
      "career_objective          Degreed accountant with more than 10 years of ...\n",
      "degree_names                                          [\"Bachelor's degree\"]\n",
      "major_field_of_studies                                       ['Accounting']\n",
      "positions                                                 Software Engineer\n",
      "responsibilities          Design, develop, and maintain scalable and rob...\n",
      "Name: 2575, dtype: object\n",
      "match score: 0.6276413798332214\n",
      "skills                    ['Key decision making', 'Marketing', 'Verbal a...\n",
      "career_objective          Seasoned business development professional see...\n",
      "degree_names              ['Certified Professional Coach', 'Bachelor of ...\n",
      "major_field_of_studies    ['Coaching', 'Business Administration, Marketi...\n",
      "positions                                                 Software Engineer\n",
      "responsibilities          Design, develop, and maintain scalable and rob...\n",
      "Name: 8306, dtype: object\n",
      "match score: 0.6087549924850464\n",
      "skills                    ['Data Analysis', 'Machine Learning', 'Scikit ...\n",
      "career_objective          Fresher who is dynamic and defined when it com...\n",
      "degree_names                                           ['B.Tech', 'M.Tech']\n",
      "major_field_of_studies                   ['Mechanical', 'Machine Learning']\n",
      "positions                                                 Software Engineer\n",
      "responsibilities          Design, develop, and maintain scalable and rob...\n",
      "Name: 4763, dtype: object\n",
      "match score: 0.6052947044372559\n",
      "skills                    ['Data Analysis', 'Business Analysis', 'Statis...\n",
      "career_objective          Post Graduate Analyst experienced in Business ...\n",
      "degree_names                                                 ['BSc', 'MSc']\n",
      "major_field_of_studies    ['Statistics', 'Data Analysis and Statistical ...\n",
      "positions                                                 Software Engineer\n",
      "responsibilities          Design, develop, and maintain scalable and rob...\n",
      "Name: 3043, dtype: object\n",
      "match score: 0.6030105948448181\n",
      "skills                    ['Data Analysis', 'Business Analysis', 'Statis...\n",
      "career_objective          Post Graduate Analyst experienced in Business ...\n",
      "degree_names                                                 ['BSc', 'MSc']\n",
      "major_field_of_studies    ['Statistics', 'Data Analysis and Statistical ...\n",
      "positions                                                 Software Engineer\n",
      "responsibilities          Design, develop, and maintain scalable and rob...\n",
      "Name: 8983, dtype: object\n",
      "match score: 0.6030105948448181\n",
      "skills                    ['Ability to make decisions and solve problems...\n",
      "career_objective          My full name is Kailie Marie Mahea'lani Gracii...\n",
      "degree_names                                 ['N/A', 'High School Diploma']\n",
      "major_field_of_studies                                       ['N/A', 'N/A']\n",
      "positions                                                 Software Engineer\n",
      "responsibilities          Design, develop, and maintain scalable and rob...\n",
      "Name: 1234, dtype: object\n",
      "match score: 0.5850199460983276\n",
      "skills                    ['Machine Learning', 'Deep Learning', 'Compute...\n",
      "career_objective          Skilled Machine Learning and Deep Learning pra...\n",
      "degree_names                                          ['B.Tech(Computers)']\n",
      "major_field_of_studies                                        ['Computers']\n",
      "positions                                                 Software Engineer\n",
      "responsibilities          Design, develop, and maintain scalable and rob...\n",
      "Name: 8108, dtype: object\n",
      "match score: 0.5785549283027649\n",
      "skills                    ['Net, photo, agile, analyst', 'Apple', 'autom...\n",
      "career_objective                                                           \n",
      "degree_names                   ['Master of Science', 'Bachelor of Science']\n",
      "major_field_of_studies     ['Management of Technology', 'Computer Science']\n",
      "positions                                                 Software Engineer\n",
      "responsibilities          Design, develop, and maintain scalable and rob...\n",
      "Name: 3831, dtype: object\n",
      "match score: 0.5694085955619812\n",
      "skills                    ['Statistical Modeling', 'Natural Language Pro...\n",
      "career_objective          I am a software developer currently working on...\n",
      "degree_names                                                     ['B.Tech']\n",
      "major_field_of_studies                           ['Information Technology']\n",
      "positions                                                 Software Engineer\n",
      "responsibilities          Design, develop, and maintain scalable and rob...\n",
      "Name: 8812, dtype: object\n",
      "match score: 0.5571435689926147\n",
      "skills                    ['Business Analytics', 'Data Analysis', 'Machi...\n",
      "career_objective          I am looking for an opportunity to work as a D...\n",
      "degree_names                                                       ['B.Sc']\n",
      "major_field_of_studies                                       ['Statistics']\n",
      "positions                                                 Software Engineer\n",
      "responsibilities          Design, develop, and maintain scalable and rob...\n",
      "Name: 2955, dtype: object\n",
      "match score: 0.542215883731842\n",
      "skills                    ['Results-oriented', 'Operations management', ...\n",
      "career_objective                                                           \n",
      "degree_names              ['Associate Degree', 'Bachelor of Science degr...\n",
      "major_field_of_studies                         ['Accounting', 'Accounting']\n",
      "positions                                                 Software Engineer\n",
      "responsibilities          Design, develop, and maintain scalable and rob...\n",
      "Name: 3895, dtype: object\n",
      "match score: 0.5207720994949341\n",
      "skills                    ['billing', 'book', 'budgets', 'coaching', 'co...\n",
      "career_objective                                                           \n",
      "degree_names                  [\"Associate's degree\", 'Bachelor of Science']\n",
      "major_field_of_studies                            ['Early Education', None]\n",
      "positions                                                 Software Engineer\n",
      "responsibilities          Design, develop, and maintain scalable and rob...\n",
      "Name: 6781, dtype: object\n",
      "match score: 0.5108858346939087\n",
      "skills                    ['assisted living', 'interpersonal and communi...\n",
      "career_objective                                                           \n",
      "degree_names                                                        ['B.A']\n",
      "major_field_of_studies    ['Organizational Communication Business Manage...\n",
      "positions                                                 Software Engineer\n",
      "responsibilities          Design, develop, and maintain scalable and rob...\n",
      "Name: 425, dtype: object\n",
      "match score: 0.455252468585968\n",
      "skills                    ['agency', 'delivery', 'insurance', 'materials...\n",
      "career_objective                                                           \n",
      "degree_names                                           ['Bachelor of Arts']\n",
      "major_field_of_studies     ['Liberal Arts Environmental Studies Geography']\n",
      "positions                                                 Software Engineer\n",
      "responsibilities          Design, develop, and maintain scalable and rob...\n",
      "Name: 857, dtype: object\n",
      "match score: 0.3829551339149475\n"
     ]
    }
   ],
   "execution_count": 309
  }
 ],
 "metadata": {
  "kernelspec": {
   "display_name": "Python 3",
   "language": "python",
   "name": "python3"
  },
  "language_info": {
   "codemirror_mode": {
    "name": "ipython",
    "version": 2
   },
   "file_extension": ".py",
   "mimetype": "text/x-python",
   "name": "python",
   "nbconvert_exporter": "python",
   "pygments_lexer": "ipython2",
   "version": "2.7.6"
  }
 },
 "nbformat": 4,
 "nbformat_minor": 5
}
